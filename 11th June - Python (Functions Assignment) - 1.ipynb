{
 "cells": [
  {
   "cell_type": "markdown",
   "id": "e4d15460",
   "metadata": {},
   "source": [
    "1. What is a lambda function in Python, and how does it differ from a regular function?\n",
    "\n",
    "Solution:- A lambda function is an anonymous function (i.e., defined without a name) that can take any number of arguments but, unlike normal functions, evaluates and returns only one expression.\n",
    "\n",
    "A lambda function in Python has the following syntax:\n",
    "\n",
    "lambda parameters: expression\n",
    "\n",
    "Lambda functions are different from regular functions in a few ways:\n",
    "\n",
    "No Function Name: Lambda functions don't have a name, unlike regular functions that have a defined name using the def keyword. Lambda functions are primarily used when you need a small function for a specific purpose without the need for a named function definition.\n",
    "\n",
    "Single Expression: Lambda functions are restricted to a single expression. They are designed for simple and concise operations that can be expressed in a single line. Regular functions, on the other hand, can have multiple statements and a more complex structure.\n",
    "\n",
    "Anonymous and Inline: Lambda functions are often used inline, where they are defined and used in the same place without being assigned to a variable. This makes them convenient for situations where a small function is needed as an argument or part of an expression.\n",
    "\n",
    "    \n",
    "2. Can a lambda function in Python have multiple arguments? If yes, how can you define and use them?\n",
    "\n",
    "Solution:- Yes, a lambda function in Python can have multiple arguments. You can define and use multiple arguments in a lambda function by separating them with commas, similar to regular functions. \n",
    "    "
   ]
  },
  {
   "cell_type": "code",
   "execution_count": 1,
   "id": "8aeeb4c9",
   "metadata": {},
   "outputs": [
    {
     "name": "stdout",
     "output_type": "stream",
     "text": [
      "15\n"
     ]
    }
   ],
   "source": [
    "multiply = lambda x, y: x * y\n",
    "\n",
    "# Using the lambda function\n",
    "result = multiply(5, 3)\n",
    "print(result)"
   ]
  },
  {
   "cell_type": "markdown",
   "id": "537f823d",
   "metadata": {},
   "source": [
    "3. How are lambda functions typically used in Python? Provide an example use case.\n",
    "\n",
    "Solution:- \n",
    "Lambda functions in Python are typically used in situations where a small, one-off function is needed, especially when it is used as an argument for higher-order functions like 'map()', 'filter()', or 'sorted()'. Lambda functions provide a concise way to define these small functions without the need for a formal function definition.\n",
    "\n",
    "Mapping:-\n",
    "The map() function applies a given function to each element of an iterable and returns a new iterable with the results. Lambda functions are often used to define the function to be applied."
   ]
  },
  {
   "cell_type": "code",
   "execution_count": 2,
   "id": "6eba9458",
   "metadata": {},
   "outputs": [
    {
     "name": "stdout",
     "output_type": "stream",
     "text": [
      "[2, 4, 6, 8, 10]\n"
     ]
    }
   ],
   "source": [
    "numbers = [1, 2, 3, 4, 5]\n",
    "\n",
    "# Use a lambda function to double each number\n",
    "result = map(lambda x: x * 2, numbers)\n",
    "doubled_numbers = list(result)\n",
    "\n",
    "print(doubled_numbers)"
   ]
  },
  {
   "cell_type": "markdown",
   "id": "91421809",
   "metadata": {},
   "source": [
    "4. What are the advantages and limitations of lambda functions compared to regular functions in\n",
    "Python?\n",
    "\n",
    "Solution:-\n",
    "    Advantages of Lambda Functions:\n",
    "\n",
    "Conciseness: Lambda functions allow you to define small functions in a single line, making the code more compact and readable, especially for simple operations.\n",
    "\n",
    "Inline Usage: Lambda functions are often used inline, eliminating the need for separate function definitions and reducing clutter in the code.\n",
    "\n",
    "Immediate Use: Since lambda functions are defined on the spot, they can be used immediately without the need to assign them to a variable or give them a name.Higher-Order Functions: Lambda functions are frequently used as arguments for higher-order functions like map(), filter(), or sorted(), providing a convenient and concise way to define small operations.\n",
    "\n",
    "    Limitations of Lambda Functions:\n",
    "\n",
    "Single Expression: Lambda functions are limited to a single expression. They cannot contain multiple statements or complex logic, unlike regular functions that can have multiple lines of code and more intricate structures.\n",
    "\n",
    "Limited Functionality: Due to their concise nature, lambda functions are not suitable for complex operations or functions that require multiple lines of code. Regular functions provide more flexibility and can handle more intricate tasks.\n",
    "\n",
    "No Named Functions: Lambda functions are anonymous; they don't have a formal name. This makes them less useful for functions that need to be referenced or called multiple times within the code.Readability: While lambda functions can be concise, they may sacrifice readability when the expression becomes too complex or convoluted. Regular named functions with descriptive names are often more readable and maintainable.\n",
    "\n",
    "5. Are lambda functions in Python able to access variables defined outside of their own scope? Explain with an example.\n",
    "\n",
    "Solution:- Yes, lambda functions in Python can access variables defined outside of their own scope. They have access to variables from the surrounding scope, including global variables, provided those variables are in the enclosing scope when the lambda function is defined.\n",
    "    "
   ]
  },
  {
   "cell_type": "code",
   "execution_count": 3,
   "id": "034e0173",
   "metadata": {},
   "outputs": [
    {
     "name": "stdout",
     "output_type": "stream",
     "text": [
      "15\n"
     ]
    }
   ],
   "source": [
    "def outer_function():\n",
    "    x = 10\n",
    "\n",
    "    # Define a lambda function that accesses the variable x from the outer scope\n",
    "    lambda_func = lambda y: x + y\n",
    "\n",
    "    return lambda_func\n",
    "\n",
    "# Call the outer function and obtain the lambda function\n",
    "my_lambda = outer_function()\n",
    "\n",
    "# Call the lambda function\n",
    "result = my_lambda(5)\n",
    "print(result)"
   ]
  },
  {
   "cell_type": "markdown",
   "id": "f399aba0",
   "metadata": {},
   "source": [
    "6. Write a lambda function to calculate the square of a given number."
   ]
  },
  {
   "cell_type": "code",
   "execution_count": 5,
   "id": "8b4861dd",
   "metadata": {},
   "outputs": [
    {
     "name": "stdout",
     "output_type": "stream",
     "text": [
      "25\n"
     ]
    }
   ],
   "source": [
    "square = lambda x: x ** 2\n",
    "result = square(5)\n",
    "print(result)"
   ]
  },
  {
   "cell_type": "markdown",
   "id": "b3d0c7fc",
   "metadata": {},
   "source": [
    "7. Create a lambda function to find the maximum value in a list of integers."
   ]
  },
  {
   "cell_type": "code",
   "execution_count": 6,
   "id": "48d9b494",
   "metadata": {},
   "outputs": [
    {
     "name": "stdout",
     "output_type": "stream",
     "text": [
      "97\n"
     ]
    }
   ],
   "source": [
    "list=[19,7,16,4,97]\n",
    "maximum=max(list)\n",
    "print(maximum)"
   ]
  },
  {
   "cell_type": "markdown",
   "id": "0d40b7d0",
   "metadata": {},
   "source": [
    "8. Implement a lambda function to filter out all the even numbers from a list of integers.\n"
   ]
  },
  {
   "cell_type": "code",
   "execution_count": 1,
   "id": "0090c79e",
   "metadata": {},
   "outputs": [
    {
     "name": "stdout",
     "output_type": "stream",
     "text": [
      "[2, 4, 6, 8, 10]\n"
     ]
    }
   ],
   "source": [
    "numbers = [1, 2, 3, 4, 5, 6, 7, 8, 9, 10]\n",
    "filtered_numbers = list(filter(lambda x: x % 2 == 0, numbers))\n",
    "print(filtered_numbers)"
   ]
  },
  {
   "cell_type": "markdown",
   "id": "ee051f58",
   "metadata": {},
   "source": [
    "9. Write a lambda function to sort a list of strings in ascending order based on the length of each\n",
    "string.\n"
   ]
  },
  {
   "cell_type": "code",
   "execution_count": 42,
   "id": "86df0532",
   "metadata": {},
   "outputs": [
    {
     "name": "stdout",
     "output_type": "stream",
     "text": [
      "['date', 'apple', 'banana', 'cherry', 'elderberry']\n"
     ]
    }
   ],
   "source": [
    "sort_strings_by_length = lambda lst: sorted(lst, key=lambda x: len(x))\n",
    "strings = [\"apple\", \"banana\", \"cherry\", \"date\", \"elderberry\"]\n",
    "result = sort_strings_by_length(strings)\n",
    "print(result)"
   ]
  },
  {
   "cell_type": "markdown",
   "id": "c4cbfa3a",
   "metadata": {},
   "source": [
    "10. Create a lambda function that takes two lists as input and returns a new list containing the\n",
    "common elements between the two lists.\n"
   ]
  },
  {
   "cell_type": "code",
   "execution_count": 48,
   "id": "1f5cd09f",
   "metadata": {},
   "outputs": [
    {
     "name": "stdout",
     "output_type": "stream",
     "text": [
      "<filter object at 0x0000024BE6D9EF20>\n"
     ]
    }
   ],
   "source": [
    "find_common_elements = lambda list1, list2: list(filter(lambda x: x in list1, list2))\n",
    "list1 = [1, 2, 3, 4, 5]\n",
    "list2 = [4, 5, 6, 7, 8]\n",
    "result = find_common_elements(list1, list2)\n",
    "print(result)  # Output: [4, 5]\n"
   ]
  },
  {
   "cell_type": "markdown",
   "id": "cb8e8f70",
   "metadata": {},
   "source": [
    "11. Write a recursive function to calculate the factorial of a given positive integer.\n"
   ]
  },
  {
   "cell_type": "code",
   "execution_count": 50,
   "id": "521bae52",
   "metadata": {},
   "outputs": [
    {
     "name": "stdout",
     "output_type": "stream",
     "text": [
      "number :  5\n",
      "Factorial :  120\n"
     ]
    }
   ],
   "source": [
    "def factorial(n):\n",
    "    if (n==1 or n==0):   \n",
    "        return 1\n",
    "     \n",
    "    else:\n",
    "        return (n * factorial(n - 1))\n",
    " \n",
    "num = 5;\n",
    "print(\"number : \",num)\n",
    "print(\"Factorial : \",factorial(num))"
   ]
  },
  {
   "cell_type": "markdown",
   "id": "2837cbbc",
   "metadata": {},
   "source": [
    "12. Implement a recursive function to compute the nth Fibonacci number."
   ]
  },
  {
   "cell_type": "code",
   "execution_count": 51,
   "id": "6afc7bbb",
   "metadata": {},
   "outputs": [
    {
     "name": "stdout",
     "output_type": "stream",
     "text": [
      "34\n"
     ]
    }
   ],
   "source": [
    "def Fibonacci(n):\n",
    "    if n<= 0:\n",
    "        print(\"Incorrect input\")\n",
    "    # First Fibonacci number is 0\n",
    "    elif n == 1:\n",
    "        return 0\n",
    "    # Second Fibonacci number is 1\n",
    "    elif n == 2:\n",
    "        return 1\n",
    "    else:\n",
    "        return Fibonacci(n-1)+Fibonacci(n-2)\n",
    " \n",
    "# Driver Program\n",
    " \n",
    "print(Fibonacci(10))"
   ]
  },
  {
   "cell_type": "markdown",
   "id": "c6ccd996",
   "metadata": {},
   "source": [
    "13. Create a recursive function to find the sum of all the elements in a given list.\n"
   ]
  },
  {
   "cell_type": "code",
   "execution_count": 52,
   "id": "99b0e9d4",
   "metadata": {},
   "outputs": [
    {
     "name": "stdout",
     "output_type": "stream",
     "text": [
      "15\n"
     ]
    }
   ],
   "source": [
    "def sum_of_list(lst):\n",
    "    # Base case: empty list has a sum of 0\n",
    "    if len(lst) == 0:\n",
    "        return 0\n",
    "    \n",
    "    # Recursive case: sum of list is the first element plus the sum of the rest of the list\n",
    "    return lst[0] + sum_of_list(lst[1:])\n",
    "\n",
    "my_list = [1, 2, 3, 4, 5]\n",
    "result = sum_of_list(my_list)\n",
    "print(result)\n"
   ]
  },
  {
   "cell_type": "markdown",
   "id": "143000a0",
   "metadata": {},
   "source": [
    "14. Write a recursive function to determine whether a given string is a palindrome."
   ]
  },
  {
   "cell_type": "code",
   "execution_count": 57,
   "id": "45fc17ae",
   "metadata": {},
   "outputs": [
    {
     "name": "stdout",
     "output_type": "stream",
     "text": [
      "Enter your string: japan\n",
      "japan is not palindrome\n"
     ]
    }
   ],
   "source": [
    "def is_palindrome(l,r,S):\n",
    "    if l>=r:\n",
    "        return True\n",
    "    if S[l] != S[r]:\n",
    "        return False\n",
    "    return is_palindrome(l+1,r-1,S)\n",
    "\n",
    "my_string = input('Enter your string: ')\n",
    "l = 0\n",
    "r = len(my_string)-1\n",
    "\n",
    "check = is_palindrome(l,r,my_string)\n",
    "\n",
    "if check:\n",
    "    print(f\"{my_string} is palindrome\")\n",
    "else:\n",
    "    print(f\"{my_string} is not palindrome\")\n"
   ]
  },
  {
   "cell_type": "markdown",
   "id": "8d10f14f",
   "metadata": {},
   "source": [
    "15. Implement a recursive function to find the greatest common divisor (GCD) of two positive integers."
   ]
  },
  {
   "cell_type": "code",
   "execution_count": 58,
   "id": "8fa0f955",
   "metadata": {},
   "outputs": [
    {
     "name": "stdout",
     "output_type": "stream",
     "text": [
      "5\n"
     ]
    }
   ],
   "source": [
    "def gcd(a, b):\n",
    "   if a == b:\n",
    "      return a\n",
    "   elif a < b:\n",
    "      return gcd(b, a)\n",
    "   else:\n",
    "      return gcd(b, a - b)\n",
    "\n",
    "a = 25\n",
    "b = 45\n",
    "print(gcd(a, b))"
   ]
  },
  {
   "cell_type": "code",
   "execution_count": null,
   "id": "eda9efbe",
   "metadata": {},
   "outputs": [],
   "source": []
  }
 ],
 "metadata": {
  "kernelspec": {
   "display_name": "Python 3 (ipykernel)",
   "language": "python",
   "name": "python3"
  },
  "language_info": {
   "codemirror_mode": {
    "name": "ipython",
    "version": 3
   },
   "file_extension": ".py",
   "mimetype": "text/x-python",
   "name": "python",
   "nbconvert_exporter": "python",
   "pygments_lexer": "ipython3",
   "version": "3.10.9"
  }
 },
 "nbformat": 4,
 "nbformat_minor": 5
}
