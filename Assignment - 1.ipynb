{
 "cells": [
  {
   "cell_type": "markdown",
   "id": "3fafb204",
   "metadata": {},
   "source": [
    "Q1. In the below elements which of them are values or an expression? eg:- values can be\n",
    "integer or string and expressions will be mathematical operators.\n",
    "*\n",
    "'hello';\n",
    "-87.8\n",
    "-\n",
    "/\n",
    "+\n",
    "6\n",
    "Solution:-\n",
    "Values are 'hello', -87.8, 6\n",
    "     Expressions are -,/,+\n",
    "\n",
    "Q2. What is the difference between string and variable?\n",
    "    Solution:- Variable:- Variables are used to store the data in a program, or we can say that it ia a empty box where we fill the data or value.\n",
    "    String:-  String is the collection of the characters surrounded by single quotes, double quotes.\n",
    "\n",
    "Q3. Describe three different data types.\n",
    "    Solution:-Three different data types\n",
    "     1. Numeric data type:\n",
    "        int:- it holds integer values like 4,5,6\n",
    "        float:- it hold dot(.) values like 4.5,34.54\n",
    "        complex:- it holds complex values like 100+3j\n",
    "     2. String data type: \n",
    "        str: it hold string values like 'jai', \"soni\"\n",
    "     3. Sequence data type: \n",
    "        list: we can hold integer, string, float values in this using [] bracket\n",
    "        tuple: we can hold integer, string, float values in this using () bracket\n",
    "        dictionary: it is an unordered  sequence of key value pair form. It is very useful to retrive data in an optimized way among             large amount of data.\n",
    "\n",
    "Q4. What is an expression made up of? What do all expressions do?\n",
    "    Solution:- Expression:- It is the combination of operands and operators that is interpreted to produce some other value.\n",
    "    Expressions are ued to perform some certain operations like 10+20=30. Here 10 and 20 are operands and '+' is operator.\n",
    "\n",
    "Q5. This assignment statements, like spam = 10. What is the difference between an expression and a statement?  \n",
    "    Solution:- Expressions can be assigned or used as operands, while statements can only be declared like spam=10\n",
    "\n",
    "Q6. After running the following code, what does the variable bacon contain?\n",
    "    bacon = 22\n",
    "    bacon + 1\n",
    "    Solution:- After run this code bacon will contain value 23.\n",
    "\n",
    "Q7. What should the values of the following two terms be?\n",
    "    'spam' + 'spamspam'\n",
    "    'spam' * 3\n",
    "   Solution:- In both terms will get spamspamspam.\n",
    "\n",
    "Q8. Why is eggs a valid variable name while 100 is invalid?\n",
    "    Solution:- As we all know, that variable names cannot begin with a number so, eggs is a valid variable and 100 is invalid.\n",
    "\n",
    "Q9. What three functions can be used to get the integer, floating-point number, or string version of a value?\n",
    "    Solution:- The three functions can be used to get the integer, floating-point, or string version of a values are int(), float(), str().\n",
    "\n",
    "Q10. Why does this expression cause an error? How can you fix it? 'I have eaten' +99+ 'burrritos.'\n",
    "    Solution:- 'I have eaten' +99+ 'burrritos.' The expression causes an error becuse 99 is an integer and only strings ca be concatenated to other      strings with the + operaotr. The correct way is i have eaten '+str(99)+' burrtios'."
   ]
  }
 ],
 "metadata": {
  "kernelspec": {
   "display_name": "Python 3 (ipykernel)",
   "language": "python",
   "name": "python3"
  },
  "language_info": {
   "codemirror_mode": {
    "name": "ipython",
    "version": 3
   },
   "file_extension": ".py",
   "mimetype": "text/x-python",
   "name": "python",
   "nbconvert_exporter": "python",
   "pygments_lexer": "ipython3",
   "version": "3.10.9"
  }
 },
 "nbformat": 4,
 "nbformat_minor": 5
}
