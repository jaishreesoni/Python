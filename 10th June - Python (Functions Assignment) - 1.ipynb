{
 "cells": [
  {
   "cell_type": "markdown",
   "id": "c5f2e94f",
   "metadata": {},
   "source": [
    "1. In Python, what is the difference between a built-in function and a user-defined function? Provide an example of each.\n",
    "\n",
    "Solution:- \n",
    "\n",
    "Built-in Function: Built-in functions are pre-defined functions provided by Python as part of its standard library. These functions are readily available for use without the need for any additional steps such as defining or importing. Built-in functions cover a wide range of functionalities and are designed to perform common tasks. \n"
   ]
  },
  {
   "cell_type": "code",
   "execution_count": 1,
   "id": "7a7f92ae",
   "metadata": {},
   "outputs": [
    {
     "name": "stdout",
     "output_type": "stream",
     "text": [
      "Hello, world!\n"
     ]
    }
   ],
   "source": [
    "# Using the print() built-in function\n",
    "print(\"Hello, world!\")"
   ]
  },
  {
   "cell_type": "markdown",
   "id": "608a9507",
   "metadata": {},
   "source": [
    "User-defined Function:\n",
    "User-defined functions are functions created by the user to perform specific tasks or operations. These functions are defined by the user using the def keyword, and they encapsulate a block of reusable code. User-defined functions allow for code organization, modularity, and reusability. They are created as per the requirements of the user and can be customized to perform specific tasks."
   ]
  },
  {
   "cell_type": "code",
   "execution_count": 2,
   "id": "34d2dfba",
   "metadata": {},
   "outputs": [
    {
     "name": "stdout",
     "output_type": "stream",
     "text": [
      "25\n"
     ]
    }
   ],
   "source": [
    "# User-defined function to calculate the square of a number\n",
    "def calculate_square(number):\n",
    "    return number ** 2\n",
    "\n",
    "# Using the user-defined function\n",
    "result = calculate_square(5)\n",
    "print(result)"
   ]
  },
  {
   "cell_type": "markdown",
   "id": "3b51da1a",
   "metadata": {},
   "source": [
    "2. How can you pass arguments to a function in Python? Explain the difference between positional arguments and keyword arguments.\n",
    "\n",
    "Solution:- \n",
    "Keyword Arguments:- Parameter names are used to pass the agument during the funtion call.\n",
    "    \n",
    "Order of parameter names can be changed to pass the argument or values.\n",
    "\n",
    "Syntax- FunctionName(parmeterName=value,...)"
   ]
  },
  {
   "cell_type": "code",
   "execution_count": 4,
   "id": "ba84ee93",
   "metadata": {},
   "outputs": [
    {
     "name": "stdout",
     "output_type": "stream",
     "text": [
      "Hi, I am Prince\n",
      "My age is  20\n",
      "Hi, I am Prince\n",
      "My age is  20\n"
     ]
    }
   ],
   "source": [
    "def nameAge(name, age):\n",
    "    print(\"Hi, I am\", name)\n",
    "    print(\"My age is \", age)\n",
    " \n",
    "nameAge(name=\"Prince\", age=20)\n",
    " \n",
    "nameAge(age=20, name=\"Prince\")"
   ]
  },
  {
   "cell_type": "markdown",
   "id": "c2bb6be6",
   "metadata": {},
   "source": [
    "Position Argument:- Argumenta are passed in the order of parameters. The order defined in the order function declaration.\n",
    "        \n",
    "Order of values cannot be changed to avoid the unexpected output.\n",
    "     \n",
    "Syntax- FunctionName(value1,value2,...)"
   ]
  },
  {
   "cell_type": "code",
   "execution_count": 6,
   "id": "8e1c2b31",
   "metadata": {},
   "outputs": [
    {
     "name": "stdout",
     "output_type": "stream",
     "text": [
      "Case-1:\n",
      "Hi, I am Prince\n",
      "My age is  20\n",
      "\n",
      "Case-2:\n",
      "Hi, I am 20\n",
      "My age is  Prince\n"
     ]
    }
   ],
   "source": [
    "def nameAge(name, age):\n",
    "    print(\"Hi, I am\", name)\n",
    "    print(\"My age is \", age)\n",
    " \n",
    "# You will get correct output because argument is given in order\n",
    "print(\"Case-1:\")\n",
    "nameAge(\"Prince\", 20)\n",
    "# You will get incorrect output because argument is not in order\n",
    "print(\"\\nCase-2:\")\n",
    "nameAge(20, \"Prince\")"
   ]
  },
  {
   "cell_type": "markdown",
   "id": "697b74e7",
   "metadata": {},
   "source": [
    "3. What is the purpose of the return statement in a function? Can a function have multiple return statements? Explain with an example.\n",
    "\n",
    "Solution:- The purpose of the return statement in a function is to specify the value or values that the function should return to the caller. When a return statement is encountered in a function, it immediately terminates the execution of the function and returns the specified value(s) back to the caller.\n",
    "\n",
    "A function can have multiple return statements, and the choice of which one to execute depends on certain conditions or logic within the function. Once a return statement is executed, the function exits, and no further code in the function is executed."
   ]
  },
  {
   "cell_type": "code",
   "execution_count": 14,
   "id": "c846d00b",
   "metadata": {},
   "outputs": [],
   "source": [
    "def check_even_odd(number):\n",
    "    if number % 2 == 0:\n",
    "        return \"Even\"  # Return \"Even\" if the number is even\n",
    "    else:\n",
    "        return \"Odd\"   # Return \"Odd\" if the number is odd\n",
    "\n",
    "# Call the function and store the return value\n",
    "result1 = check_even_odd(4)\n",
    "result2 = check_even_odd(7)"
   ]
  },
  {
   "cell_type": "markdown",
   "id": "7afe1a82",
   "metadata": {},
   "source": [
    "4. What are lambda functions in Python? How are they different from regular functions? Provide an example where a lambda function can be useful.\n",
    "\n",
    "Solution:- A lambda function is an anonymous function (i.e., defined without a name) that can take any number of arguments but, unlike normal functions, evaluates and returns only one expression.\n",
    "\n",
    "A lambda function in Python has the following syntax:\n",
    "\n",
    "lambda parameters: expression\n",
    "\n",
    "Lambda functions are different from regular functions in a few ways:\n",
    "\n",
    "No Function Name: Lambda functions don't have a name, unlike regular functions that have a defined name using the def keyword. Lambda functions are primarily used when you need a small function for a specific purpose without the need for a named function definition.\n",
    "\n",
    "Single Expression: Lambda functions are restricted to a single expression. They are designed for simple and concise operations that can be expressed in a single line. Regular functions, on the other hand, can have multiple statements and a more complex structure.\n",
    "\n",
    "Anonymous and Inline: Lambda functions are often used inline, where they are defined and used in the same place without being assigned to a variable. This makes them convenient for situations where a small function is needed as an argument or part of an expression."
   ]
  },
  {
   "cell_type": "code",
   "execution_count": 15,
   "id": "1b0e3e81",
   "metadata": {},
   "outputs": [
    {
     "name": "stdout",
     "output_type": "stream",
     "text": [
      "25\n",
      "25\n"
     ]
    }
   ],
   "source": [
    "# Regular function to calculate the square of a number\n",
    "def square(x):\n",
    "    return x ** 2\n",
    "\n",
    "# Lambda function to calculate the square of a number\n",
    "square_lambda = lambda x: x ** 2\n",
    "\n",
    "# Using the regular function\n",
    "result1 = square(5)\n",
    "print(result1)\n",
    "\n",
    "# Using the lambda function\n",
    "result2 = square_lambda(5)\n",
    "print(result2)"
   ]
  },
  {
   "cell_type": "markdown",
   "id": "cc8b4949",
   "metadata": {},
   "source": [
    "5. How does the concept of \"scope\" apply to functions in Python? Explain the difference between local\n",
    "scope and global scope.\n",
    "\n",
    "Solution:-\n",
    "    Local Scope: Local scope, also known as function scope, refers to the scope within a specific function. Variables defined inside a function are considered local variables and are only accessible within that function. They cannot be accessed from outside the function or from other functions.\n",
    "    \n",
    "    Global Scope: Global scope refers to the scope at the top level of the program or module. Variables defined outside any function or at the module level are considered global variables and can be accessed throughout the program, including inside functions.\n"
   ]
  },
  {
   "cell_type": "markdown",
   "id": "878a28b6",
   "metadata": {},
   "source": [
    "6. How can you use the \"return\" statement in a Python function to return multiple values?\n",
    "\n",
    "Solution:- In Python, you can use the return statement in a function to return multiple values by separating them with commas. This is often referred to as \"multiple return values\" or \"tuple packing.\"\n"
   ]
  },
  {
   "cell_type": "code",
   "execution_count": 16,
   "id": "d3d32aad",
   "metadata": {},
   "outputs": [
    {
     "name": "stdout",
     "output_type": "stream",
     "text": [
      "Alice\n",
      "25\n",
      "alice@example.com\n"
     ]
    }
   ],
   "source": [
    "def get_user_info():\n",
    "    name = \"Alice\"\n",
    "    age = 25\n",
    "    email = \"alice@example.com\"\n",
    "    return name, age, email\n",
    "\n",
    "# Call the function and unpack the returned values\n",
    "user_name, user_age, user_email = get_user_info()\n",
    "\n",
    "print(user_name)\n",
    "print(user_age)    \n",
    "print(user_email)"
   ]
  },
  {
   "cell_type": "markdown",
   "id": "224278f8",
   "metadata": {},
   "source": [
    "7. What is the difference between the \"pass by value\" and \"pass by reference\" concepts when it\n",
    "comes to function arguments in Python?\n",
    "\n",
    "Solution:- Pass by value:-\n",
    "        While calling a function, when we pass values by copying variables, it is known as “Call By Values.”\n",
    "        \n",
    "        A copy of the variable is passed in a call by value.\n",
    "        \n",
    "        Changes made in a copy of a variable never modify the value of the variable outside the function.\n",
    "        \n",
    "        Does not allow you to make any changes in the actual variables.\n",
    "        \n",
    "        Original value not modified.\n",
    "        \n",
    "        Pass by reference:-\n",
    "            \n",
    "        While calling a function, in a programming language instead of copying the values of variables, the address of the variables is used, it is known as “Call By Reference.”\n",
    "        \n",
    "        In this method, a variable itself is passed.\n",
    "        \n",
    "        Change in the variable also affects the value of the variable outside the function.\n",
    "        \n",
    "        Allows you to make changes in the values of variables by using function calls.\n",
    "        \n",
    "        The original value is modified."
   ]
  },
  {
   "cell_type": "markdown",
   "id": "e28e002e",
   "metadata": {},
   "source": [
    "8. Create a function that can intake integer or decimal value and do following operations:\n",
    "a. Logarithmic function (log x)\n",
    "b. Exponential function (exp(x))\n",
    "c. Power function with base 2 (2*)\n",
    "d. Square root\n",
    "\n",
    "Solution:-\n",
    "a. Logarithmic function (log): Calculates the natural logarithm of value using the math.log() function from the Python math module.\n",
    "\n",
    "b. Exponential function (exp): Calculates the exponential function of value using the math.exp() function.\n",
    "\n",
    "c. Power function with base 2 (2*): Calculates 2 raised to the power of value using the pow() function.\n",
    "\n",
    "d.Square root: Calculates the square root of value using the math.sqrt() function.\n",
    "    \n",
    "The results of these operations are then returned as a tuple. In the example usage, the math_operations() function is called with 2.5 as the argument, and the returned tuple is printed.\n",
    "\n",
    "\n",
    "9. Create a function that takes a full name as an argument and returns first name and last name."
   ]
  },
  {
   "cell_type": "code",
   "execution_count": 18,
   "id": "5ce0de16",
   "metadata": {},
   "outputs": [
    {
     "name": "stdout",
     "output_type": "stream",
     "text": [
      "First Name: Jaishree\n",
      "Last Name: Soni\n"
     ]
    }
   ],
   "source": [
    "def get_first_last_name(full_name):\n",
    "    names = full_name.split()\n",
    "    first_name = names[0]\n",
    "    last_name = names[-1]\n",
    "    return first_name, last_name\n",
    "\n",
    "# Example usage\n",
    "name = \"Jaishree Soni\"\n",
    "first_name, last_name = get_first_last_name(name)\n",
    "print(\"First Name:\", first_name)\n",
    "print(\"Last Name:\", last_name)"
   ]
  },
  {
   "cell_type": "code",
   "execution_count": null,
   "id": "3e1015d3",
   "metadata": {},
   "outputs": [],
   "source": []
  }
 ],
 "metadata": {
  "kernelspec": {
   "display_name": "Python 3 (ipykernel)",
   "language": "python",
   "name": "python3"
  },
  "language_info": {
   "codemirror_mode": {
    "name": "ipython",
    "version": 3
   },
   "file_extension": ".py",
   "mimetype": "text/x-python",
   "name": "python",
   "nbconvert_exporter": "python",
   "pygments_lexer": "ipython3",
   "version": "3.10.9"
  }
 },
 "nbformat": 4,
 "nbformat_minor": 5
}
