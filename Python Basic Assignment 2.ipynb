{
 "cells": [
  {
   "cell_type": "markdown",
   "id": "cfa3ad49",
   "metadata": {},
   "source": [
    "Q1. What are the two values of the Boolean data type? How do you write them?\n",
    "    There are two values of the Boolean data type 'true' and 'false' or '0' and '1'.\n",
    "    \n",
    "Q2. What are the three different types of Boolean operators?\n",
    "    Boolean opearoters are AND, OR, and NOT.\n",
    "    \n",
    "Q3. Make a list of each Boolean operator's truth tables (i.e. every possible combination of Boolean\n",
    "    values for the operator and what it evaluate ).\n",
    "    The Truth Tables for the Boolean tables are as follos:\n",
    "    Truth table for AND operator\n",
    "    1 and 1 is 1\n",
    "    1 and 0 is 0\n",
    "    0 and 1 is 0\n",
    "    0 and 0 is 0\n",
    "    \n",
    "    Truth table for OR operator\n",
    "    1 and 1 is 1\n",
    "    1 and 0 is 1\n",
    "    0 and 1 is 1\n",
    "    0 and 0 is 0\n",
    "    \n",
    "    Truth table for NOT operator\n",
    "    1 is 0\n",
    "    0 is 1\n",
    "    \n",
    "Q4. What are the values of the following expressions?\n",
    "    (5 > 4) and (3 == 5) = False\n",
    "    not (5 > 4) = False\n",
    "    (5 > 4) or (3 == 5) = True\n",
    "    not ((5 > 4) or (3 == 5)) = False\n",
    "    (True and True) and (True == False) = False\n",
    "    (not False) or (not True) = True\n",
    "    \n",
    "Q5. What are the six comparison operators?\n",
    "    We have six of these, including and limited to- less than, greater than, less than or equal to, greater than or equal to,       equal to, and not equal to.\n",
    "    \n",
    "Q6. How do you tell the difference between the equal to and assignment operators? Describe a condition and when you would use       one.\n",
    "    Assignment Operator:- This operator is used to assign the values to the variable\n",
    "    Example: a=10, b=4.5, c='Jai'\n",
    "    Equal Operator:- This operator is used to check whether the given two operand are equal or not. If so, it returns true         otherwise it return false.\n",
    "    In below exmple I am using both operators in single program,"
   ]
  },
  {
   "cell_type": "code",
   "execution_count": null,
   "id": "4a0c8cef",
   "metadata": {},
   "outputs": [],
   "source": [
    "a=10 #Assignment operator\n",
    "b=20 #Assignment operator\n",
    "if a==b: #Equal operator\n",
    "    print(\"a and b are equal\")\n",
    "else:\n",
    "    print(\"a and b are not equal\")"
   ]
  },
  {
   "cell_type": "markdown",
   "id": "88fdcad6",
   "metadata": {},
   "source": [
    "Q7. Identify the three blocks in this code:\n",
    "spam = 0\n",
    "if spam == 10:\n",
    "print('eggs)\n",
    "if spam > 5:\n",
    "print('bacon')\n",
    "else:\n",
    "print('ham')\n",
    "print('spam')\n",
    "print('spam')"
   ]
  },
  {
   "cell_type": "code",
   "execution_count": null,
   "id": "ec06a3ec",
   "metadata": {},
   "outputs": [],
   "source": [
    "spam = 0\n",
    "if spam == 10:\n",
    "  print('eggs')\n",
    "if spam > 5:\n",
    "  print('bacon')\n",
    "else:\n",
    "  print('ham')\n",
    "print('spam')\n",
    "print('spam')"
   ]
  },
  {
   "cell_type": "code",
   "execution_count": null,
   "id": "48d57fa2",
   "metadata": {},
   "outputs": [],
   "source": [
    "'''Q8. Write code that prints Hello if 1 is stored in spam, prints Howdy if 2 is stored in spam, and prints\n",
    "    Greetings! if anything else is stored in spam.'''\n",
    "spam = int(input())\n",
    "if spam == 1:\n",
    "    print('Hello')\n",
    "elif spam == 2:\n",
    "    print('Howdy')\n",
    "else:\n",
    "    print('Greetings!')"
   ]
  },
  {
   "cell_type": "markdown",
   "id": "1bb91221",
   "metadata": {},
   "source": [
    "Q9. If your programme is stuck in an endless loop, what keys you’ll press?\n",
    "    Ctrl+C we will press.\n",
    "    \n",
    "Q10.How can you tell the difference between break and continue?\n",
    "    Break:- The break stop the continuation of the loop.\n",
    "            It used with the 'switch', 'label'\n",
    "    Continue:- The 'continue' does not stop the continuation of loop and it stops the current.\n",
    "               Cannot be executed with switch and the labels.\n",
    "               \n",
    "Q11. In a for loop, what is the difference between range(10), range(0, 10), and range(0, 10, 1)?\n",
    "     range(10):- Here we have declar the length which is 10. It will display the items whatever we passed in function. So it                    will display 10 items from 0 to 10 it will not print 10.\n",
    "     range(0, 10):- Here we have declared the start and stop values, so it will start printing the values or items from 0 to\n",
    "                    10.\n",
    "     range(0, 10, 1):- Here we re declaring the start, stop and step. Step argument specifies the incrementation between two                         numbers in the sequence."
   ]
  },
  {
   "cell_type": "code",
   "execution_count": null,
   "id": "1339f8d4",
   "metadata": {},
   "outputs": [],
   "source": [
    "a=10\n",
    "for i in range(0,a,2):#(start, stop, step)\n",
    "    print(i)"
   ]
  },
  {
   "cell_type": "code",
   "execution_count": null,
   "id": "cf56e0ee",
   "metadata": {},
   "outputs": [],
   "source": [
    "'''Q12. Write a short program that prints the numbers 1 to 10 using a for loop. Then write an equivalent\n",
    "        program that prints the numbers 1 to 10 using a while loop.'''\n",
    "for i in range(1,11):\n",
    "    print(i)"
   ]
  },
  {
   "cell_type": "code",
   "execution_count": null,
   "id": "75946548",
   "metadata": {},
   "outputs": [],
   "source": [
    "'''Using while loop'''\n",
    "i=1\n",
    "while(i<=10):\n",
    "    print(i)\n",
    "    i += 1"
   ]
  },
  {
   "cell_type": "markdown",
   "id": "38978d3b",
   "metadata": {},
   "source": [
    "Q13. If you had a function named bacon() inside a module named spam, how would you call it after importing spam?\n",
    "     \n",
    "     This function can be called with spam.bacon()."
   ]
  }
 ],
 "metadata": {
  "kernelspec": {
   "display_name": "Python 3 (ipykernel)",
   "language": "python",
   "name": "python3"
  },
  "language_info": {
   "codemirror_mode": {
    "name": "ipython",
    "version": 3
   },
   "file_extension": ".py",
   "mimetype": "text/x-python",
   "name": "python",
   "nbconvert_exporter": "python",
   "pygments_lexer": "ipython3",
   "version": "3.10.9"
  }
 },
 "nbformat": 4,
 "nbformat_minor": 5
}
