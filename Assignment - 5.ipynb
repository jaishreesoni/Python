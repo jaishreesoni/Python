{
 "cells": [
  {
   "cell_type": "markdown",
   "id": "fcc941a3",
   "metadata": {},
   "source": [
    "1. What does an empty dictionary's code look like?"
   ]
  },
  {
   "cell_type": "code",
   "execution_count": 2,
   "id": "16cb4d42",
   "metadata": {},
   "outputs": [
    {
     "data": {
      "text/plain": [
       "dict"
      ]
     },
     "execution_count": 2,
     "metadata": {},
     "output_type": "execute_result"
    }
   ],
   "source": [
    "dict = {}\n",
    "type(dict)"
   ]
  },
  {
   "cell_type": "markdown",
   "id": "58a4e628",
   "metadata": {},
   "source": [
    "2. What is the value of a dictionary value with the key 'foo'; and the value 42?"
   ]
  },
  {
   "cell_type": "code",
   "execution_count": 4,
   "id": "01efa50d",
   "metadata": {},
   "outputs": [
    {
     "data": {
      "text/plain": [
       "{'foo': 42}"
      ]
     },
     "execution_count": 4,
     "metadata": {},
     "output_type": "execute_result"
    }
   ],
   "source": [
    "{'foo':42}"
   ]
  },
  {
   "cell_type": "markdown",
   "id": "be3b0801",
   "metadata": {},
   "source": [
    "3. What is the most significant distinction between a dictionary and a list?"
   ]
  },
  {
   "cell_type": "markdown",
   "id": "71b4aca6",
   "metadata": {},
   "source": [
    "Most significant difference:\n",
    "    \n",
    "List - items in list are Ordered\n",
    "\n",
    "Dictionary : iten in dictionary are unordered"
   ]
  },
  {
   "cell_type": "markdown",
   "id": "663e9861",
   "metadata": {},
   "source": [
    "4. What happens if you try to access spam['foo'] if spam is {'bar': 100}?"
   ]
  },
  {
   "cell_type": "code",
   "execution_count": 6,
   "id": "44733bbc",
   "metadata": {},
   "outputs": [
    {
     "ename": "KeyError",
     "evalue": "'foo'",
     "output_type": "error",
     "traceback": [
      "\u001b[1;31m---------------------------------------------------------------------------\u001b[0m",
      "\u001b[1;31mKeyError\u001b[0m                                  Traceback (most recent call last)",
      "Cell \u001b[1;32mIn[6], line 2\u001b[0m\n\u001b[0;32m      1\u001b[0m spam \u001b[38;5;241m=\u001b[39m {\u001b[38;5;124m'\u001b[39m\u001b[38;5;124mbar\u001b[39m\u001b[38;5;124m'\u001b[39m:\u001b[38;5;241m100\u001b[39m}\n\u001b[1;32m----> 2\u001b[0m \u001b[43mspam\u001b[49m\u001b[43m[\u001b[49m\u001b[38;5;124;43m'\u001b[39;49m\u001b[38;5;124;43mfoo\u001b[39;49m\u001b[38;5;124;43m'\u001b[39;49m\u001b[43m]\u001b[49m\n",
      "\u001b[1;31mKeyError\u001b[0m: 'foo'"
     ]
    }
   ],
   "source": [
    "spam = {'bar':100}\n",
    "spam['foo']"
   ]
  },
  {
   "cell_type": "markdown",
   "id": "a9cbd96c",
   "metadata": {},
   "source": [
    "5. If a dictionary is stored in spam, what is the difference between the expressions 'cat'; in spam and\n",
    "'cat'; in spam.keys()?"
   ]
  },
  {
   "cell_type": "code",
   "execution_count": 7,
   "id": "302e3bf1",
   "metadata": {},
   "outputs": [
    {
     "data": {
      "text/plain": [
       "True"
      ]
     },
     "execution_count": 7,
     "metadata": {},
     "output_type": "execute_result"
    }
   ],
   "source": [
    "spam ={'cat':100}\n",
    "'cat' in spam"
   ]
  },
  {
   "cell_type": "code",
   "execution_count": 8,
   "id": "1a97fa98",
   "metadata": {},
   "outputs": [
    {
     "data": {
      "text/plain": [
       "True"
      ]
     },
     "execution_count": 8,
     "metadata": {},
     "output_type": "execute_result"
    }
   ],
   "source": [
    "'cat' in spam.keys()"
   ]
  },
  {
   "cell_type": "markdown",
   "id": "d9d16171",
   "metadata": {},
   "source": [
    "6. If a dictionary is stored in spam, what is the difference between the expressions 'cat'; in spam and\n",
    "'cat'; in spam.values()?"
   ]
  },
  {
   "cell_type": "code",
   "execution_count": 9,
   "id": "1acb9b0c",
   "metadata": {},
   "outputs": [
    {
     "data": {
      "text/plain": [
       "True"
      ]
     },
     "execution_count": 9,
     "metadata": {},
     "output_type": "execute_result"
    }
   ],
   "source": [
    "spam ={'cat':100}\n",
    "'cat' in spam"
   ]
  },
  {
   "cell_type": "code",
   "execution_count": 10,
   "id": "97a4ca1b",
   "metadata": {},
   "outputs": [
    {
     "data": {
      "text/plain": [
       "False"
      ]
     },
     "execution_count": 10,
     "metadata": {},
     "output_type": "execute_result"
    }
   ],
   "source": [
    "spam ={'cat':100}\n",
    "'cat' in spam.values()"
   ]
  },
  {
   "cell_type": "markdown",
   "id": "a06eabbc",
   "metadata": {},
   "source": [
    "7. What is a shortcut for the following code?\n",
    "if 'color'; not in spam:\n",
    "spam['color'] = 'black';"
   ]
  },
  {
   "cell_type": "code",
   "execution_count": 11,
   "id": "ddb0aa53",
   "metadata": {},
   "outputs": [
    {
     "data": {
      "text/plain": [
       "{'cat': 100, 'color': 'black'}"
      ]
     },
     "execution_count": 11,
     "metadata": {},
     "output_type": "execute_result"
    }
   ],
   "source": [
    "spam ={'cat':100}\n",
    "spam.setdefault('color','black')\n",
    "spam"
   ]
  },
  {
   "cell_type": "markdown",
   "id": "e18075f6",
   "metadata": {},
   "source": [
    "8. How do you \"pretty print\" dictionary values using which module and function?"
   ]
  },
  {
   "cell_type": "code",
   "execution_count": 12,
   "id": "440be40b",
   "metadata": {},
   "outputs": [],
   "source": [
    "import pprint\n",
    "dct = [ {'Name': 'Shiva', 'Age': '23', 'Country': 'India'},\n",
    "  {'Name': 'Anna', 'Age': '44', 'Country': 'China'},\n",
    "  {'Name': 'Joe', 'Age': '29', 'Country': 'UK'},\n",
    "  {'Name': 'Chumlee', 'Age': '35', 'Country': 'USA'}\n",
    "]"
   ]
  },
  {
   "cell_type": "code",
   "execution_count": 13,
   "id": "0905f404",
   "metadata": {},
   "outputs": [
    {
     "name": "stdout",
     "output_type": "stream",
     "text": [
      "[{'Age': '23', 'Country': 'India', 'Name': 'Shiva'},\n",
      " {'Age': '44', 'Country': 'China', 'Name': 'Anna'},\n",
      " {'Age': '29', 'Country': 'UK', 'Name': 'Joe'},\n",
      " {'Age': '35', 'Country': 'USA', 'Name': 'Chumlee'}]\n"
     ]
    }
   ],
   "source": [
    "# printing with pprint()\n",
    "pprint.pprint(dct)"
   ]
  },
  {
   "cell_type": "code",
   "execution_count": 15,
   "id": "93b98899",
   "metadata": {},
   "outputs": [
    {
     "name": "stdout",
     "output_type": "stream",
     "text": [
      "[{'Name': 'Shiva', 'Age': '23', 'Country': 'India'}, {'Name': 'Anna', 'Age': '44', 'Country': 'China'}, {'Name': 'Joe', 'Age': '29', 'Country': 'UK'}, {'Name': 'Chumlee', 'Age': '35', 'Country': 'USA'}]\n"
     ]
    }
   ],
   "source": [
    "#Printing with print()\n",
    "print(dct)"
   ]
  },
  {
   "cell_type": "code",
   "execution_count": null,
   "id": "521ebb34",
   "metadata": {},
   "outputs": [],
   "source": []
  }
 ],
 "metadata": {
  "kernelspec": {
   "display_name": "Python 3 (ipykernel)",
   "language": "python",
   "name": "python3"
  },
  "language_info": {
   "codemirror_mode": {
    "name": "ipython",
    "version": 3
   },
   "file_extension": ".py",
   "mimetype": "text/x-python",
   "name": "python",
   "nbconvert_exporter": "python",
   "pygments_lexer": "ipython3",
   "version": "3.10.9"
  }
 },
 "nbformat": 4,
 "nbformat_minor": 5
}
