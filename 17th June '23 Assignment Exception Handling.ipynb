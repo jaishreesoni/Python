{
 "cells": [
  {
   "cell_type": "markdown",
   "id": "3d75fb3c",
   "metadata": {},
   "source": [
    "1. What is the role of try and exception block?\n",
    "\n",
    "Solution:- The try and except block in Python is used to catch and handle exceptions. Python executes code following the try statement as a “normal” part of the program. The code that follows the except statement is the program's response to any exceptions in the preceding try clause.\n",
    "    \n",
    "    \n",
    "2. What is the syntax for a basic try-except block?\n",
    "\n",
    "Solution:- Syntax of basic try-except block\n",
    "    \n",
    "    try:\n",
    "    # Some Code\n",
    "except:\n",
    "    # Executed if error in the\n",
    "    # try block\n",
    "    \n",
    "    \n",
    "3. What happens if an exception occurs inside a try block and there is no matching\n",
    "except block?\n",
    "\n",
    "Solution:- If an exception occurs which does not match the exception named in the except clause, it is passed on to outer try statements; if no handler is found, it is an unhandled exception and execution stops with a message as shown above.\n",
    " \n",
    " \n",
    "4. What is the difference between using a bare except block and specifying a specific\n",
    "exception type?\n",
    "\n",
    "Solution:- Bare except block:\n",
    "\n",
    "A bare except block catches all exceptions indiscriminately, regardless of the specific exception type.\n",
    "\n",
    "It serves as a catch-all for any exception that might occur within the try block.\n",
    "\n",
    "This can be useful when you want to handle any type of exception in a generic way or display a generic error message.\n",
    "\n",
    "However, using a bare except block can make it difficult to diagnose and handle specific exceptions, as all exceptions will be caught, including those that you may not have intended to handle.\n",
    "\n",
    "Specifying a specific exception type:\n",
    "\n",
    "When you specify a specific exception type in the except block, you catch only the specified exception and its subclasses.\n",
    "\n",
    "This allows for more targeted and precise exception handling.\n",
    "\n",
    "You can handle different types of exceptions differently based on their specific needs.\n",
    "\n",
    "It enables you to provide specific error messages or perform specific actions based on the type of exception.\n",
    "\n",
    "\n",
    "5. Can you have nested try-except blocks in Python? If yes, then give an example.\n",
    "\n",
    "Solution:- Yes we can have nested try-except block in python."
   ]
  },
  {
   "cell_type": "code",
   "execution_count": 1,
   "id": "30540449",
   "metadata": {},
   "outputs": [
    {
     "name": "stdout",
     "output_type": "stream",
     "text": [
      "outer try block\n",
      "nested try block\n",
      "outer except block\n",
      "division by zero\n"
     ]
    }
   ],
   "source": [
    "x = 10\n",
    "y = 0\n",
    "\n",
    "try:\n",
    "    print(\"outer try block\")\n",
    "    try:\n",
    "        print(\"nested try block\")\n",
    "        print(x / y)\n",
    "    except TypeError as te:\n",
    "        print(\"nested except block\")\n",
    "        print(te)\n",
    "except ZeroDivisionError as ze:\n",
    "    print(\"outer except block\")\n",
    "    print(ze)"
   ]
  },
  {
   "cell_type": "markdown",
   "id": "4fab2e73",
   "metadata": {},
   "source": [
    "6. Can we use multiple exception blocks, if yes then give an example.\n",
    "\n",
    "Solution:- Yes, it is possible to use multiple exception block."
   ]
  },
  {
   "cell_type": "code",
   "execution_count": 2,
   "id": "47447a71",
   "metadata": {},
   "outputs": [
    {
     "name": "stdout",
     "output_type": "stream",
     "text": [
      "Enter a number: 4\n",
      "Result: 2.5\n"
     ]
    }
   ],
   "source": [
    "try:\n",
    "    # Code that might raise an exception\n",
    "    x = int(input(\"Enter a number: \"))\n",
    "    result = 10 / x\n",
    "    print(\"Result:\", result)\n",
    "except ValueError:\n",
    "    print(\"Invalid input. Please enter a valid number.\")\n",
    "except ZeroDivisionError:\n",
    "    print(\"Cannot divide by zero.\")\n",
    "except Exception as e:\n",
    "    print(\"An exception occurred:\", e)"
   ]
  },
  {
   "cell_type": "markdown",
   "id": "3281defa",
   "metadata": {},
   "source": [
    "7. Write the reason due to which following errors are raised:\n",
    "    \n",
    "Solution:-\n",
    "\n",
    "a. EOFError:- This error is raised when the input() function or the raw_input() function (in Python 2) hits the end-of-file condition without receiving any input. It typically occurs when trying to read input from the user, but the user terminates the input stream.\n",
    "\n",
    "b. FloatingPointError:- It typically occurs when performing calculations involving floating-point numbers that result in exceptional cases, such as division by zero or mathematical operations that produce results too large to be represented by the floating-point format.\n",
    "\n",
    "c. IndexError:- This error is raised when trying to access an index that is outside the valid range of indices for a sequence (e.g., a list or a string).\n",
    "\n",
    "d. MemoryError:- It typically occurs when attempting to allocate a large amount of memory, but the system's available memory is insufficient to fulfill the request.\n",
    "\n",
    "e. OverflowError:- It typically occurs when performing calculations that exceed the maximum or minimum representable value for the specific numeric type, such as integer overflow or floating-point overflow.\n",
    "\n",
    "f. TabError:- This error is raised when there is an incorrect indentation or mix of tabs and spaces in the code. \n",
    "\n",
    "g. ValueError:- This error is raised when a function receives an argument of the correct type but with an invalid value.\n",
    "\n",
    "\n",
    "8. Write code for the following given scenario and add try-exception block to it."
   ]
  },
  {
   "cell_type": "code",
   "execution_count": 3,
   "id": "299b96e2",
   "metadata": {},
   "outputs": [
    {
     "name": "stdout",
     "output_type": "stream",
     "text": [
      "Enter the numerator: 16\n",
      "Enter the denominator: 4\n",
      "Result: 4.0\n"
     ]
    }
   ],
   "source": [
    "#a. Program to divide two numbers\n",
    "try:\n",
    "    numerator = int(input(\"Enter the numerator: \"))\n",
    "    denominator = int(input(\"Enter the denominator: \"))\n",
    "    result = numerator / denominator\n",
    "    print(\"Result:\", result)\n",
    "except ZeroDivisionError:\n",
    "    print(\"Error: Division by zero is not allowed.\")\n",
    "except ValueError:\n",
    "    print(\"Error: Invalid input. Please enter integers.\")"
   ]
  },
  {
   "cell_type": "code",
   "execution_count": 6,
   "id": "a29e1b6e",
   "metadata": {},
   "outputs": [
    {
     "name": "stdout",
     "output_type": "stream",
     "text": [
      "Enter an integer: 4\n",
      "Integer: 4\n"
     ]
    }
   ],
   "source": [
    "#b. Program to convert a string to an integer\n",
    "try:\n",
    "    string_input = input(\"Enter an integer: \")\n",
    "    integer = int(string_input)\n",
    "    print(\"Integer:\", integer)\n",
    "except ValueError:\n",
    "    print(\"Error: Invalid input. Please enter a valid integer.\")"
   ]
  },
  {
   "cell_type": "code",
   "execution_count": 9,
   "id": "b3f27820",
   "metadata": {},
   "outputs": [
    {
     "name": "stdout",
     "output_type": "stream",
     "text": [
      "Enter an index: 4\n",
      "Element: 5\n"
     ]
    }
   ],
   "source": [
    "#c. Program to access an element in a list\n",
    "try:\n",
    "    my_list = [1, 2, 3, 4, 5]\n",
    "    index = int(input(\"Enter an index: \"))\n",
    "    element = my_list[index]\n",
    "    print(\"Element:\", element)\n",
    "except IndexError:\n",
    "    print(\"Error: Index is out of range.\")\n",
    "except ValueError:\n",
    "    print(\"Error: Invalid input. Please enter an integer.\")"
   ]
  },
  {
   "cell_type": "code",
   "execution_count": 10,
   "id": "c384309d",
   "metadata": {},
   "outputs": [
    {
     "name": "stdout",
     "output_type": "stream",
     "text": [
      "Enter a number: 7\n",
      "Number: 7\n"
     ]
    }
   ],
   "source": [
    "#d. Program to handle a specific exception\n",
    "try:\n",
    "    x = int(input(\"Enter a number: \"))\n",
    "    if x < 0:\n",
    "        raise ValueError(\"Number cannot be negative.\")\n",
    "    else:\n",
    "        print(\"Number:\", x)\n",
    "except ValueError as e:\n",
    "    print(\"Error:\", str(e))"
   ]
  },
  {
   "cell_type": "code",
   "execution_count": 11,
   "id": "d0ba3c0d",
   "metadata": {},
   "outputs": [
    {
     "name": "stdout",
     "output_type": "stream",
     "text": [
      "Enter a number: 7\n",
      "Result: 1.4285714285714286\n"
     ]
    }
   ],
   "source": [
    "#e. Program to handle any exception\n",
    "try:\n",
    "    # Code that might raise an exception\n",
    "    x = int(input(\"Enter a number: \"))\n",
    "    result = 10 / x\n",
    "    print(\"Result:\", result)\n",
    "except Exception as e:\n",
    "    print(\"An exception occurred:\", str(e))"
   ]
  },
  {
   "cell_type": "code",
   "execution_count": null,
   "id": "bae7e59a",
   "metadata": {},
   "outputs": [],
   "source": []
  }
 ],
 "metadata": {
  "kernelspec": {
   "display_name": "Python 3 (ipykernel)",
   "language": "python",
   "name": "python3"
  },
  "language_info": {
   "codemirror_mode": {
    "name": "ipython",
    "version": 3
   },
   "file_extension": ".py",
   "mimetype": "text/x-python",
   "name": "python",
   "nbconvert_exporter": "python",
   "pygments_lexer": "ipython3",
   "version": "3.10.9"
  }
 },
 "nbformat": 4,
 "nbformat_minor": 5
}
