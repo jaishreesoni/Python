{
 "cells": [
  {
   "cell_type": "markdown",
   "id": "c697eb16",
   "metadata": {},
   "source": [
    "Q.1. Create two int type variables, apply addition, subtraction, division and multiplications\n",
    "and store the results in variables. Then print the data in the following format by calling the\n",
    "variables:\n",
    "First variable is __ & second variable is __.\n",
    "Addition: __ + __ = __\n",
    "Subtraction: __ - __ = __\n",
    "Multiplication: __ * __ = __\n",
    "Division: __ / __ = __"
   ]
  },
  {
   "cell_type": "code",
   "execution_count": 2,
   "id": "2fdee18f",
   "metadata": {},
   "outputs": [
    {
     "name": "stdout",
     "output_type": "stream",
     "text": [
      "Enter first number : 6\n",
      "Enter second number : 3\n",
      "Addition: 6+3=9\n",
      "Substraction: 6-3=3\n",
      "Multiplication: 6*3=18\n",
      "Division: 6/3=2.0\n"
     ]
    }
   ],
   "source": [
    "a=int(input(\"Enter first number : \"))\n",
    "b=int(input(\"Enter second number : \"))\n",
    "print(\"Addition:\",str(a)+ \"+\" +str(b)+ \"=\" +str(a+b))\n",
    "print(\"Substraction:\",str(a)+ \"-\" +str(b)+ \"=\" +str(a-b))\n",
    "print(\"Multiplication:\",str(a)+ \"*\" +str(b)+ \"=\" +str(a*b))\n",
    "print(\"Division:\",str(a)+ \"/\" +str(b)+ \"=\" +str(a/b))"
   ]
  },
  {
   "cell_type": "markdown",
   "id": "d598cc3c",
   "metadata": {},
   "source": [
    "Q.2. What is the difference between the following operators:\n",
    "(i) ‘/’ & ‘//’\n",
    "(ii) ‘**’ & ‘^’\n",
    "\n",
    "Solution:-\n",
    "\n",
    "(i)'/' & '//':- '/' this method of division is considered as the 'classic division'. The '/' single slash carries out the float division.\n",
    "\n",
    "'//' this method of division is considered as the 'true division'. The '//' double slash carries out the integer division which is also known as floor division.\n",
    "\n",
    "(ii)‘**’ & ‘^’:- The '**' operator is used for exponentiation or raising a number to a power. It takes two operands, the base and the exponent, and returns the result of raising the base to the power of the exponent.\n",
    "\n",
    "The '^' operator is the bitwise XOR (exclusive OR) operator. It performs bitwise XOR operation between the binary representations of two integers. Each bit in the result is set if and only if the corresponding bits in the operands are different."
   ]
  },
  {
   "cell_type": "markdown",
   "id": "66bf47ba",
   "metadata": {},
   "source": [
    "Q.3. List the logical operators.\n",
    "Solution:- It has three logical operators\n",
    "    (i)AND\n",
    "    (ii)OR\n",
    "    (iii)Not\n",
    "    \n",
    "    \n",
    "Q.4. Explain right shift operator and left shift operator with examples.\n",
    "Solution:-\n",
    "    Right Shift Operator:- Shifts the bits of the number to the right and fills 0 on void left as a result.\n",
    "    \n",
    "    Left Shift Operator:- Shifts the bits of the number to the left and fills 0 on voids right as a result."
   ]
  },
  {
   "cell_type": "code",
   "execution_count": 5,
   "id": "b4167b68",
   "metadata": {},
   "outputs": [
    {
     "name": "stdout",
     "output_type": "stream",
     "text": [
      "a >> 1 = 5\n",
      "b >> 1 = -5\n",
      "a << 1 = 10\n",
      "b << 1 = -20\n"
     ]
    }
   ],
   "source": [
    "#Python program to show left and right shift\n",
    "a=10\n",
    "b=-10\n",
    "\n",
    "# print bitwise right shift operator\n",
    "print(\"a >> 1 =\", a >> 1)\n",
    "print(\"b >> 1 =\", b >> 1)\n",
    " \n",
    "a = 5\n",
    "b = -10\n",
    " \n",
    "# print bitwise left shift operator\n",
    "print(\"a << 1 =\", a << 1)\n",
    "print(\"b << 1 =\", b << 1)"
   ]
  },
  {
   "cell_type": "markdown",
   "id": "bfd1ae69",
   "metadata": {},
   "source": [
    "Q.5. Create a list containing int type data of length 15. Then write a code to check if 10 is present in the list or not."
   ]
  },
  {
   "cell_type": "code",
   "execution_count": 12,
   "id": "2c5ed991",
   "metadata": {},
   "outputs": [
    {
     "name": "stdout",
     "output_type": "stream",
     "text": [
      "Choose any number from 0 to 15 :10\n",
      "exist\n"
     ]
    }
   ],
   "source": [
    "l=[0,1,2,3,4,5,6,7,8,9,10,11,12,13,14,15]\n",
    "i=int(input(\"Choose any number from 0 to 15 :\"))\n",
    "if i in l:\n",
    "    print(\"exist\")\n",
    "else:\n",
    "    print(\"not exist\")"
   ]
  },
  {
   "cell_type": "code",
   "execution_count": null,
   "id": "1aac1a3d",
   "metadata": {},
   "outputs": [],
   "source": []
  }
 ],
 "metadata": {
  "kernelspec": {
   "display_name": "Python 3 (ipykernel)",
   "language": "python",
   "name": "python3"
  },
  "language_info": {
   "codemirror_mode": {
    "name": "ipython",
    "version": 3
   },
   "file_extension": ".py",
   "mimetype": "text/x-python",
   "name": "python",
   "nbconvert_exporter": "python",
   "pygments_lexer": "ipython3",
   "version": "3.10.9"
  }
 },
 "nbformat": 4,
 "nbformat_minor": 5
}
