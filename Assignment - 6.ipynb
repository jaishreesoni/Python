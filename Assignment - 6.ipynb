{
 "cells": [
  {
   "cell_type": "markdown",
   "id": "d7333594",
   "metadata": {},
   "source": [
    "Q.1. What are keywords in python? Using the keyword library, print all the python keywords.\n",
    "\n",
    "Solution:- Keywords in python are reserved words that have predefined meanings and cannot be used as identifiers(such as function, attributes, variable name, etc.).\n",
    "    We can use the 'keyword' library in Python to retrive a list of all the keywords."
   ]
  },
  {
   "cell_type": "code",
   "execution_count": 24,
   "id": "d7cf4d37",
   "metadata": {},
   "outputs": [
    {
     "name": "stdout",
     "output_type": "stream",
     "text": [
      "False\n",
      "None\n",
      "True\n",
      "and\n",
      "as\n",
      "assert\n",
      "async\n",
      "await\n",
      "break\n",
      "class\n",
      "continue\n",
      "def\n",
      "del\n",
      "elif\n",
      "else\n",
      "except\n",
      "finally\n",
      "for\n",
      "from\n",
      "global\n",
      "if\n",
      "import\n",
      "in\n",
      "is\n",
      "lambda\n",
      "nonlocal\n",
      "not\n",
      "or\n",
      "pass\n",
      "raise\n",
      "return\n",
      "try\n",
      "while\n",
      "with\n",
      "yield\n"
     ]
    }
   ],
   "source": [
    "import keyword\n",
    "\n",
    "# Get all the keywords\n",
    "all_keywords = keyword.kwlist\n",
    "\n",
    "# Print the keywords\n",
    "for keyword in all_keywords:\n",
    "    print(keyword)"
   ]
  },
  {
   "cell_type": "markdown",
   "id": "4a78aec4",
   "metadata": {},
   "source": [
    "Q.2. What are the rules to create variables in python?\n",
    "\n",
    "Solution:- Variable name must starts from a letter or a underwscore character.\n",
    "           It can't be start from number.\n",
    "           It can contain only alpha-numeric character and underscore(a-b,0-9 and _)\n",
    "           Variable names are case sensitive.\n",
    "        \n",
    "        \n",
    "Q.3. What are the standards and conventions followed for the nomenclature of variables in python to improve code readability and maintainability?\n",
    "\n",
    "Solution:-\n",
    "Choose variable names that accurately describe the purpose or content of the variable.\n",
    "\n",
    "Maintain consistency in your naming conventions throughout your codebase.\n",
    "\n",
    "Avoid single-letter variable names.\n",
    "\n",
    "If you have constants in your code, such as configuration values that should not be modified, use uppercase letters and underscores (UPPER_CASE) to distinguish them from variables.\n",
    "\n",
    "Avoid using reserved keywords as variable names to prevent conflicts and confusion.\n",
    "\n",
    "Choose variable names that are appropriate within the context of your code.\n",
    "\n",
    "Strive for names that are self-explanatory and don't require additional comments to understand their purpose.\n",
    "\n",
    "\n",
    "Q.4. What will happen if a keyword is used as a variable name?\n",
    "\n",
    "Solution:- Keywords define the language's syntax rules and structure, and they cannot be used as variable names.\n",
    "    \n",
    "    \n",
    "Q.5. For what purpose def keyword is used?\n",
    "\n",
    "Solution:- The def keyword is used to create, (or define) a function.\n",
    "    \n",
    "    \n",
    "Q.6. What is the operation of this special character ‘\\’?\n",
    "\n",
    "Solution:-The special character \\ in Python is known as the backslash or escape character. It is used to introduce escape sequences, which are combinations of the backslash followed by another character.\n",
    "\n",
    "Here are some common escape sequences used with the backslash:\n",
    "\n",
    "'\\n': Newline. It represents a line break or a new line.\n",
    "'\\t': Tab. It represents a horizontal tab.\n",
    "'\\' or '\\': Double quote or single quote. It allows you to include a quote character within a string literal.\n",
    "'\\\\': Backslash. It represents a literal backslash character.\n",
    "    \n",
    "    \n",
    "Q.7. Give an example of the following conditions:\n",
    "\n",
    "(i) Homogeneous list:- A homogeneous list is a list where all elements have the same data type. Here's an example of a homogeneous list containing integers:\n",
    "\n",
    "(ii) Heterogeneous set:- A heterogeneous set is a set where elements can have different data types.\n",
    "\n",
    "(iii) Homogeneous tuple:- A homogeneous tuple is a tuple where all elements have the same data type."
   ]
  },
  {
   "cell_type": "code",
   "execution_count": 28,
   "id": "acea70dc",
   "metadata": {},
   "outputs": [
    {
     "name": "stdout",
     "output_type": "stream",
     "text": [
      "[1, 2, 3, 4, 5]\n",
      "{1, 3.14, 'apple'}\n",
      "('apple', 'banana', 'orange', 'kiwi')\n"
     ]
    }
   ],
   "source": [
    "#Homogeneous list\n",
    "numbers = [1, 2, 3, 4, 5]\n",
    "print(numbers)\n",
    "#Heterogeneous set\n",
    "my_set = {1, 'apple', 3.14, True}\n",
    "print(my_set)\n",
    "#Homogeneous tuple\n",
    "fruits = ('apple', 'banana', 'orange', 'kiwi')\n",
    "print(fruits)"
   ]
  },
  {
   "cell_type": "code",
   "execution_count": null,
   "id": "ffbc5339",
   "metadata": {},
   "outputs": [],
   "source": [
    "Q.8. Explain the mutable and immutable data types with proper explanation & examples.\n",
    "Solution:- Mutable:- Anything can be said mutable when it can be changed and modified according to uses.\n",
    "           Mutable data types are-\n",
    "            \n",
    "            Sets\n",
    "            \n",
    "            Lists\n",
    "            \n",
    "            Dictionaries\n",
    "            \n",
    "            User defined class"
   ]
  },
  {
   "cell_type": "code",
   "execution_count": 3,
   "id": "43a1c4e8",
   "metadata": {},
   "outputs": [
    {
     "name": "stdout",
     "output_type": "stream",
     "text": [
      "The original list:  ['Python', 'Java', 23, False, 5.3]\n",
      "The modified list:  ['Python', 'Java', 'changed', False, 5.3]\n"
     ]
    }
   ],
   "source": [
    "# Creating a list  \n",
    "list1 = ['Python', 'Java', 23, False, 5.3]  \n",
    "print(\"The original list: \", list1)  \n",
    "  \n",
    "# Changing the value at index 2 of the list  \n",
    "list1[2]='changed'  \n",
    "print(\"The modified list: \", list1) "
   ]
  },
  {
   "cell_type": "markdown",
   "id": "b91c785a",
   "metadata": {},
   "source": [
    "Immutable:- Anything can be said immutable when it cannot be changed and modified according to uses. The value of these python objects fixed once they  are made.\n",
    "Immutable data types are- \n",
    "        \n",
    "Tuples\n",
    "            \n",
    "Numbers\n",
    "         \n",
    "String"
   ]
  },
  {
   "cell_type": "code",
   "execution_count": 5,
   "id": "319baa56",
   "metadata": {},
   "outputs": [
    {
     "ename": "TypeError",
     "evalue": "'tuple' object does not support item assignment",
     "output_type": "error",
     "traceback": [
      "\u001b[1;31m---------------------------------------------------------------------------\u001b[0m",
      "\u001b[1;31mTypeError\u001b[0m                                 Traceback (most recent call last)",
      "Cell \u001b[1;32mIn[5], line 5\u001b[0m\n\u001b[0;32m      2\u001b[0m tuple_ \u001b[38;5;241m=\u001b[39m (\u001b[38;5;241m2\u001b[39m, \u001b[38;5;241m3\u001b[39m, \u001b[38;5;241m4\u001b[39m, \u001b[38;5;241m5\u001b[39m)  \n\u001b[0;32m      4\u001b[0m \u001b[38;5;66;03m# Trying to modify the tuple object  \u001b[39;00m\n\u001b[1;32m----> 5\u001b[0m tuple_[\u001b[38;5;241m0\u001b[39m] \u001b[38;5;241m=\u001b[39m \u001b[38;5;124m'\u001b[39m\u001b[38;5;124mX\u001b[39m\u001b[38;5;124m'\u001b[39m  \n\u001b[0;32m      6\u001b[0m \u001b[38;5;28mprint\u001b[39m(tulple_)\n",
      "\u001b[1;31mTypeError\u001b[0m: 'tuple' object does not support item assignment"
     ]
    }
   ],
   "source": [
    "# Creating a tuple object  \n",
    "tuple_ = (2, 3, 4, 5)  \n",
    "  \n",
    "# Trying to modify the tuple obj\n",
    "ect  \n",
    "tuple_[0] = 'X'  \n",
    "print(tulple_) "
   ]
  },
  {
   "cell_type": "markdown",
   "id": "712eec80",
   "metadata": {},
   "source": [
    "Q.9. Write a code to create the given structure using only for loop.\n",
    "*\n",
    "***\n",
    "*****\n",
    "*******\n",
    "*********"
   ]
  },
  {
   "cell_type": "code",
   "execution_count": 14,
   "id": "a27dfa1f",
   "metadata": {},
   "outputs": [
    {
     "name": "stdout",
     "output_type": "stream",
     "text": [
      "*\r\n",
      "**\r\n",
      "***\r\n",
      "****\r\n",
      "*****\r\n"
     ]
    }
   ],
   "source": [
    "row=5\n",
    "for i in range(0,row):\n",
    "    for j in range(0,i+1):\n",
    "        print(\"*\", end='')\n",
    "    print('\\r')"
   ]
  },
  {
   "cell_type": "markdown",
   "id": "4551b5dc",
   "metadata": {},
   "source": [
    "Q.10. Write a code to create the given structure using while loop.\n",
    "|||||||||\n",
    "|||||||\n",
    "|||||\n",
    "|||\n",
    "|"
   ]
  },
  {
   "cell_type": "code",
   "execution_count": 23,
   "id": "553dfc29",
   "metadata": {},
   "outputs": [
    {
     "name": "stdout",
     "output_type": "stream",
     "text": [
      "|||||||||\r\n",
      "|||||||\r\n",
      "|||||\r\n",
      "|||\r\n",
      "|\r\n"
     ]
    }
   ],
   "source": [
    "row=9\n",
    "for i in range(row+1,0,-2):\n",
    "    for j in range(0,i-1):\n",
    "        print(\"|\", end='')\n",
    "    print('\\r')"
   ]
  },
  {
   "cell_type": "code",
   "execution_count": null,
   "id": "a375a398",
   "metadata": {},
   "outputs": [],
   "source": []
  }
 ],
 "metadata": {
  "kernelspec": {
   "display_name": "Python 3 (ipykernel)",
   "language": "python",
   "name": "python3"
  },
  "language_info": {
   "codemirror_mode": {
    "name": "ipython",
    "version": 3
   },
   "file_extension": ".py",
   "mimetype": "text/x-python",
   "name": "python",
   "nbconvert_exporter": "python",
   "pygments_lexer": "ipython3",
   "version": "3.10.9"
  }
 },
 "nbformat": 4,
 "nbformat_minor": 5
}
