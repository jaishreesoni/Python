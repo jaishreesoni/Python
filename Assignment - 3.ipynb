{
 "cells": [
  {
   "cell_type": "markdown",
   "id": "9329b7e3",
   "metadata": {},
   "source": [
    "1. Why are functions advantageous to have in your programs?\n",
    "Solution:- Funtions are used to reduce the length of code.\n",
    "         - It increase the reuseability.\n",
    "         - Decomposing complex problems into simpler pieces.\n",
    "         - Improving clarityof the code.\n",
    "         - Information hiding.\n",
    "         \n",
    "         \n",
    "2. When does the code in a function run: when it's specified or when it's called?\n",
    "Solution:- When its called.\n",
    "\n",
    "\n",
    "3. What statement creates a function?\n",
    "Solution:- A function is a block of code which is run when its called only.\n",
    "           Syntax- def my_function():\n",
    "                       print(\"Hello from a function\")\n",
    "                       \n",
    "                       \n",
    "4. What is the difference between a function and a function call?\n",
    "Solution:- A function is a block of code which is used to reduce the length of code and for reuse.\n",
    "           A function call means invoking or calling that function. Without calling the function there is no meaning to create            function.\n",
    "           \n",
    "           \n",
    "5. How many global scopes are there in a Python program? How many local scopes?\n",
    "Solution:- There's only one global Python scope per program execution. This scope remains in existence until the program                  terminates and all its names are forgotten. Otherwise, the next time you were to run the program, the names would              remember their values from the previous run\n",
    "\n",
    "\n",
    "6. What happens to variables in a local scope when the function call returns?\n",
    "Solution:- Each call of the function creates new local variables, and their lifetimes expire when the function returns to the              caller.\n",
    "\n",
    "\n",
    "7. What is the concept of a return value? Is it possible to have a return value in an expression?\n",
    "Solution:- A return is a value that a function returns to the calling script or function when it completes its task. A return              value can be any one of the four variable types: handle, integer, object, or string.\n",
    "           If the data type of the expression is different from the function return type, conversion of the return value takes            place as if the value of the expression were assigned to an object with the same function return type. For a                    function of return type void , a return statement is not strictly necessary.\n",
    "           \n",
    "           \n",
    "           \n",
    "8. If a function does not have a return statement, what is the return value of a call to that function?\n",
    "Solution:- If no return statement appears in a function definition, control automatically returns to the calling function after            the last statement of the called function is executed. In this case, the return value of the called function is                undefined.\n",
    "\n",
    "\n",
    "9. How do you make a function variable refer to the global variable?\n",
    "Solution:- Variables that are created outside of a function (as in all of the examples above) are known as global variables."
   ]
  },
  {
   "cell_type": "code",
   "execution_count": 1,
   "id": "e3b1c4c1",
   "metadata": {},
   "outputs": [
    {
     "name": "stdout",
     "output_type": "stream",
     "text": [
      "This function will print Wow\n"
     ]
    }
   ],
   "source": [
    "x=\"Wow\"\n",
    "def myfun():\n",
    "    print(\"This function will print \" + x)\n",
    "\n",
    "myfun()"
   ]
  },
  {
   "cell_type": "markdown",
   "id": "54880d37",
   "metadata": {},
   "source": [
    "10. What is the data type of None?\n",
    "solution:- The data type of None is NoneType.\n",
    "\n",
    "\n",
    "11. What does the sentence import areallyourpetsnamederic do?\n",
    "Solution:- That import statement imports a module named areallyourpetsnamederic.\n",
    "\n",
    "\n",
    "12. If you had a bacon() feature in a spam module, what would you call it after importing spam?\n",
    "Solution:- This function can be called with spam.bacon().\n",
    "\n",
    "\n",
    "13. What can you do to save a programme from crashing if it encounters an error?\n",
    "Solution:- Place the line of code that might cause an error in a try clause.\n",
    "\n",
    "\n",
    "14. What is the purpose of the try clause? What is the purpose of the except clause?\n",
    "Solution:- The code that could potentially cause an error goes in the try clause.\n",
    "         - The code that executes if an error happens goes in the except clause."
   ]
  }
 ],
 "metadata": {
  "kernelspec": {
   "display_name": "Python 3 (ipykernel)",
   "language": "python",
   "name": "python3"
  },
  "language_info": {
   "codemirror_mode": {
    "name": "ipython",
    "version": 3
   },
   "file_extension": ".py",
   "mimetype": "text/x-python",
   "name": "python",
   "nbconvert_exporter": "python",
   "pygments_lexer": "ipython3",
   "version": "3.10.9"
  }
 },
 "nbformat": 4,
 "nbformat_minor": 5
}
